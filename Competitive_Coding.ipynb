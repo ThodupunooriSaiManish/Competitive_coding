{
  "nbformat": 4,
  "nbformat_minor": 0,
  "metadata": {
    "colab": {
      "provenance": [],
      "authorship_tag": "ABX9TyOAdA7v+d/FFP00RkusqtLc",
      "include_colab_link": true
    },
    "kernelspec": {
      "name": "python3",
      "display_name": "Python 3"
    },
    "language_info": {
      "name": "python"
    }
  },
  "cells": [
    {
      "cell_type": "markdown",
      "metadata": {
        "id": "view-in-github",
        "colab_type": "text"
      },
      "source": [
        "<a href=\"https://colab.research.google.com/github/ThodupunooriSaiManish/Competitive_coding/blob/main/Competitive_Coding.ipynb\" target=\"_parent\"><img src=\"https://colab.research.google.com/assets/colab-badge.svg\" alt=\"Open In Colab\"/></a>"
      ]
    },
    {
      "cell_type": "markdown",
      "source": [
        "LeetCode Problems"
      ],
      "metadata": {
        "id": "-V5gVCLR-00e"
      }
    },
    {
      "cell_type": "markdown",
      "source": [
        "Week_1"
      ],
      "metadata": {
        "id": "cDLRDFCdFNoj"
      }
    },
    {
      "cell_type": "code",
      "execution_count": null,
      "metadata": {
        "colab": {
          "base_uri": "https://localhost:8080/"
        },
        "id": "4_9VHUtqyvYI",
        "outputId": "73a2025d-b1bc-4847-c34c-0f6796441534"
      },
      "outputs": [
        {
          "output_type": "stream",
          "name": "stdout",
          "text": [
            "8\n"
          ]
        }
      ],
      "source": [
        "#121\n",
        "# Given an array whose elements represents the price at day i, determine the maximum profit possible, you can only buy and sell only once.\n",
        "from typing import List\n",
        "class Solution:\n",
        "    def maxProfit(self, prices: List[int]) -> int:\n",
        "        min_price = float('inf')\n",
        "        max_profit = 0\n",
        "\n",
        "        for price in prices:\n",
        "            if price < min_price:\n",
        "                min_price = price\n",
        "            elif price - min_price > max_profit:\n",
        "                max_profit = price - min_price\n",
        "\n",
        "        return max_profit\n",
        "\n",
        "L1 = [7,5,4,10,12,1]\n",
        "s1 = Solution()\n",
        "print(s1.maxProfit(L1))"
      ]
    },
    {
      "cell_type": "code",
      "source": [
        "'''\n",
        "class Solution:\n",
        "    def maxSubArray1(self, nums: List[int]) -> int:\n",
        "        max_sum = current = nums[0]\n",
        "        for num in nums[1:]:\n",
        "            current = max(num, current + num)\n",
        "            max_sum = max(max_sum, current)\n",
        "        return max_sum\n",
        "        '''"
      ],
      "metadata": {
        "colab": {
          "base_uri": "https://localhost:8080/",
          "height": 53
        },
        "id": "tUVvVh7IA1m0",
        "outputId": "01324c82-5da1-44e8-9bf6-f8639955ccc8"
      },
      "execution_count": null,
      "outputs": [
        {
          "output_type": "execute_result",
          "data": {
            "text/plain": [
              "'\\nclass Solution:\\n    def maxSubArray1(self, nums: List[int]) -> int:\\n        max_sum = current = nums[0]\\n        for num in nums[1:]:\\n            current = max(num, current + num)\\n            max_sum = max(max_sum, current)\\n        return max_sum\\n        '"
            ],
            "application/vnd.google.colaboratory.intrinsic+json": {
              "type": "string"
            }
          },
          "metadata": {},
          "execution_count": 6
        }
      ]
    },
    {
      "cell_type": "code",
      "source": [
        "#53\n",
        "''' Given an integer arrray find the continuous sub array which has the largest sum and returns its sum, and also print the sub array'''\n",
        "def maxSubArray(nums):\n",
        "    max_sum = current = nums[0]\n",
        "    start = end = temp_start = 0\n",
        "\n",
        "    for i in range(1, len(nums)):\n",
        "        if nums[i] > current + nums[i]:\n",
        "            current = nums[i]\n",
        "            temp_start = i\n",
        "        else:\n",
        "            current += nums[i]\n",
        "\n",
        "        if current > max_sum:\n",
        "            max_sum = current\n",
        "            start = temp_start\n",
        "            end = i\n",
        "\n",
        "    return max_sum, nums[start:end + 1]\n",
        "\n",
        "l=[-2,1,-3,4,-1,2,1,-5,4]\n",
        "print(maxSubArray(l))\n",
        "\n"
      ],
      "metadata": {
        "colab": {
          "base_uri": "https://localhost:8080/"
        },
        "id": "Tv-2DFdr34vT",
        "outputId": "9d24771f-ebaa-4fbc-aebc-1c37c247cc5e"
      },
      "execution_count": null,
      "outputs": [
        {
          "output_type": "stream",
          "name": "stdout",
          "text": [
            "(6, [4, -1, 2, 1])\n"
          ]
        }
      ]
    },
    {
      "cell_type": "code",
      "source": [
        "#26\n",
        "from typing import List\n",
        "\n",
        "class Solution:\n",
        "    def removeDuplicates(self, nums: List[int]) -> int:\n",
        "        if not nums:\n",
        "            return 0\n",
        "\n",
        "        k = 1\n",
        "        for i in range(1, len(nums)):\n",
        "            if nums[i] != nums[k - 1]:\n",
        "                nums[k] = nums[i]\n",
        "                k += 1\n",
        "\n",
        "        return k\n",
        "\n",
        "if __name__ == \"__main__\":\n",
        "    nums = [0, 0, 1, 1, 1, 2, 2, 3, 3, 4]\n",
        "    solution = Solution()\n",
        "    k = solution.removeDuplicates(nums)\n",
        "    print(\"Number of unique elements:\", k)\n",
        "    print(\"Modified array (first k elements):\", nums[:k])"
      ],
      "metadata": {
        "id": "q8ZKTCoqFNZd",
        "outputId": "ce7805b3-93bd-4044-b1ef-fdf467f0575b",
        "colab": {
          "base_uri": "https://localhost:8080/"
        }
      },
      "execution_count": null,
      "outputs": [
        {
          "output_type": "stream",
          "name": "stdout",
          "text": [
            "Number of unique elements: 5\n",
            "Modified array (first k elements): [0, 1, 2, 3, 4]\n"
          ]
        }
      ]
    },
    {
      "cell_type": "markdown",
      "source": [
        "Week_2"
      ],
      "metadata": {
        "id": "mgk5XMp5GIN7"
      }
    },
    {
      "cell_type": "code",
      "source": [
        "#287\n",
        "def multipleTime(nums):\n",
        "  count=0\n",
        "  for i in range(len(nums)):\n",
        "    for j in range(i+1,len(nums)):\n",
        "      if nums[i]==nums[j]:\n",
        "        count+=1\n",
        "        print(nums[i])\n",
        "nums=[1,2,3,8,4,5,6,7,8]\n",
        "multipleTime(nums)"
      ],
      "metadata": {
        "colab": {
          "base_uri": "https://localhost:8080/"
        },
        "id": "RpgPPqug1qCh",
        "outputId": "9fb756c8-ba1b-4544-d9b5-65b754d43e82"
      },
      "execution_count": null,
      "outputs": [
        {
          "output_type": "stream",
          "name": "stdout",
          "text": [
            "8\n"
          ]
        }
      ]
    },
    {
      "cell_type": "code",
      "source": [
        "#287(1)\n",
        "'''You are given an array of +ve integers that has atmost one element multiple times, find that number.'''\n",
        "\n",
        "from typing import List\n",
        "\n",
        "class Solution:\n",
        "    def findDuplicate(self, nums: List[int]) -> int:\n",
        "        seen = set()\n",
        "        for num in nums:\n",
        "            if num in seen:\n",
        "                return num\n",
        "            seen.add(num)\n",
        "        return -1\n",
        "\n",
        "nums = [1, 3, 4, 2, 2]\n",
        "solution = Solution()\n",
        "print(solution.findDuplicate(nums))"
      ],
      "metadata": {
        "colab": {
          "base_uri": "https://localhost:8080/"
        },
        "id": "wanIAazi8Qxp",
        "outputId": "6277ca50-0e0e-4301-ec14-5030e6420a15"
      },
      "execution_count": null,
      "outputs": [
        {
          "output_type": "stream",
          "name": "stdout",
          "text": [
            "2\n"
          ]
        }
      ]
    },
    {
      "cell_type": "code",
      "source": [
        "#704\n",
        "'''Find the number of searches required to find out given pg.no in the text book or return -1'''\n",
        "def binary_search(nums, target):\n",
        "    count = 0\n",
        "    low = 0\n",
        "    high = len(nums) - 1\n",
        "\n",
        "    while low <= high:\n",
        "        mid = (low + high) // 2\n",
        "        count += 1\n",
        "\n",
        "        if nums[mid] == target:\n",
        "            print(f\"Number of comparisons: {count}\")\n",
        "            return mid\n",
        "        elif nums[mid] > target:\n",
        "            high = mid - 1\n",
        "        else:\n",
        "            low = mid + 1\n",
        "\n",
        "    print(f\"Number of comparisons: {count}\")\n",
        "    return -1\n",
        "\n",
        "nums = [1,2,3,4,5,6,7,8,9,10,11]\n",
        "print(binary_search(nums, 11))"
      ],
      "metadata": {
        "colab": {
          "base_uri": "https://localhost:8080/"
        },
        "id": "5g9VYAOf8eoY",
        "outputId": "d9dbb1cf-1526-4d65-b6e7-c597d884a605"
      },
      "execution_count": null,
      "outputs": [
        {
          "output_type": "stream",
          "name": "stdout",
          "text": [
            "Number of comparisons: 4\n",
            "10\n"
          ]
        }
      ]
    },
    {
      "cell_type": "code",
      "source": [
        "#268\n",
        "'''Given an arrat contains 'n' distint no. taken from 0,1,...,n and fing the one no. that is missing from the binary search technique.'''\n",
        "def missingNumber(nums):\n",
        "    nums.sort()\n",
        "    low, high = 0, len(nums) - 1\n",
        "\n",
        "    while low <= high:\n",
        "        mid = (low + high) // 2\n",
        "\n",
        "        if nums[mid] == mid:\n",
        "            low = mid + 1\n",
        "        else:\n",
        "\n",
        "            high = mid - 1\n",
        "\n",
        "    return low\n",
        "\n",
        "\n",
        "nums = [0, 1, 2, 3, 4, 5, 7]\n",
        "print(\"Missing number is:\", missingNumber(nums))"
      ],
      "metadata": {
        "colab": {
          "base_uri": "https://localhost:8080/"
        },
        "id": "ezFOUbJGBpNQ",
        "outputId": "aeead548-b9f0-4662-db8e-1dae4500560d"
      },
      "execution_count": null,
      "outputs": [
        {
          "output_type": "stream",
          "name": "stdout",
          "text": [
            "Missing number is: 6\n"
          ]
        }
      ]
    },
    {
      "cell_type": "code",
      "source": [
        "#136\n",
        "'''Given an array of 'n' integers every number in the array expect one apperas twice. Find the single number in the array.'''\n",
        "from typing import List\n",
        "\n",
        "class Solution:\n",
        "    def singleNonDuplicate(self, nums: List[int]) -> int:\n",
        "        low, high = 0, len(nums) - 1\n",
        "\n",
        "        while low < high:\n",
        "            mid = (low + high) // 2\n",
        "\n",
        "            # Ensure mid is even for comparison\n",
        "            if mid % 2 == 1:\n",
        "                mid -= 1\n",
        "\n",
        "            # If pair is valid, single is after mid\n",
        "            if nums[mid] == nums[mid + 1]:\n",
        "                low = mid + 2\n",
        "            else:\n",
        "                high = mid\n",
        "\n",
        "        return nums[low]\n",
        "nums=[1,1,2,2,3,3,4,5,5,6,6,7]\n",
        "s1=Solution()\n",
        "s1.singleNonDuplicate(nums)"
      ],
      "metadata": {
        "colab": {
          "base_uri": "https://localhost:8080/"
        },
        "id": "BhTZ7DNPDRGg",
        "outputId": "cc4de20c-aa86-4316-f37d-54d6ada5695c"
      },
      "execution_count": null,
      "outputs": [
        {
          "output_type": "execute_result",
          "data": {
            "text/plain": [
              "4"
            ]
          },
          "metadata": {},
          "execution_count": 1
        }
      ]
    },
    {
      "cell_type": "markdown",
      "source": [
        "Week_3"
      ],
      "metadata": {
        "id": "CN_MsAmbHCOs"
      }
    },
    {
      "cell_type": "code",
      "source": [
        "#Sorting strings using extended bubble sort\n",
        "def ex_bubble_sort(strings):\n",
        "    n = len(strings)\n",
        "    for i in range(n):\n",
        "        swapped = False\n",
        "        for j in range(0, n - i - 1):\n",
        "            if strings[j] > strings[j + 1]:\n",
        "                strings[j], strings[j + 1] = strings[j + 1], strings[j]\n",
        "                swapped = True\n",
        "        if not swapped:\n",
        "            break\n",
        "    return strings\n",
        "\n",
        "words = [\"banana\", \"apple\", \"grape\", \"watermelon\", \"mango\"]\n",
        "sorted = ex_bubble_sort(words)\n",
        "print(\"Sorted list of strings:\", sorted)"
      ],
      "metadata": {
        "colab": {
          "base_uri": "https://localhost:8080/"
        },
        "id": "g-hZdqzi1lxx",
        "outputId": "5715e9af-8c41-4c84-f66d-0f9955720041"
      },
      "execution_count": null,
      "outputs": [
        {
          "output_type": "stream",
          "name": "stdout",
          "text": [
            "Sorted list of strings: ['apple', 'banana', 'grape', 'mango', 'watermelon']\n"
          ]
        }
      ]
    },
    {
      "cell_type": "code",
      "source": [
        "#448\n",
        "'''Given an array a[0,...,n-1] of distint elements and range low to high, find all numbers that are in a range but not in the array.\n",
        "The missing elements in the array printed in thr sorted list'''\n",
        "\n",
        "def find_missing_in_range(arr, low, high):\n",
        "    arr_set = set(arr)\n",
        "    missing = []\n",
        "\n",
        "    for num in range(low, high + 1):\n",
        "        if num not in arr_set:\n",
        "            missing.append(num)\n",
        "\n",
        "    return missing\n",
        "\n",
        "arr = [10, 12, 14]\n",
        "low = 10\n",
        "high = 15\n",
        "\n",
        "print(find_missing_in_range(arr, low, high))"
      ],
      "metadata": {
        "colab": {
          "base_uri": "https://localhost:8080/"
        },
        "id": "p59-Sv7wBgaO",
        "outputId": "47bc7153-674b-4c88-9d4f-f5fc44d9f1b5"
      },
      "execution_count": null,
      "outputs": [
        {
          "output_type": "stream",
          "name": "stdout",
          "text": [
            "[11, 13, 15]\n"
          ]
        }
      ]
    },
    {
      "cell_type": "code",
      "source": [
        "#Arrival and Departure of Train, platforms required\n",
        "def find_min_platforms(arrival, departure):\n",
        "    n = len(arrival)\n",
        "    arrival.sort()\n",
        "    departure.sort()\n",
        "\n",
        "    i = j = 0\n",
        "    platforms_needed = max_platforms = 0\n",
        "\n",
        "    while i < n and j < n:\n",
        "        if arrival[i] <= departure[j]:\n",
        "            platforms_needed += 1\n",
        "            i += 1\n",
        "        else:\n",
        "            platforms_needed -= 1\n",
        "            j += 1\n",
        "\n",
        "        max_platforms = max(max_platforms, platforms_needed)\n",
        "\n",
        "    return max_platforms\n",
        "\n",
        "arrival = [900, 940, 950, 1100, 1500, 1800]\n",
        "departure = [910, 1200, 1120, 1130, 1900, 2000]\n",
        "\n",
        "print(find_min_platforms(arrival, departure))\n"
      ],
      "metadata": {
        "colab": {
          "base_uri": "https://localhost:8080/"
        },
        "id": "FNqyNYBSFZGj",
        "outputId": "19b21bb2-e588-40df-e1e7-f5127ef4fa06"
      },
      "execution_count": null,
      "outputs": [
        {
          "output_type": "stream",
          "name": "stdout",
          "text": [
            "3\n"
          ]
        }
      ]
    },
    {
      "cell_type": "code",
      "source": [
        "#242\n",
        "from collections import Counter\n",
        "from typing import List\n",
        "\n",
        "class Solution:\n",
        "    def isAnagram(self, s: str, t: str) -> bool:\n",
        "\n",
        "        return Counter(s) == Counter(t)\n",
        "sol = Solution()\n",
        "print(sol.isAnagram(\"anagram\", \"nagaram\"))\n",
        "print(sol.isAnagram(\"rat\", \"car\"))\n"
      ],
      "metadata": {
        "colab": {
          "base_uri": "https://localhost:8080/"
        },
        "id": "ppPCCfVPGjzs",
        "outputId": "c56e679f-c1bc-4b84-e992-608075d0a89f"
      },
      "execution_count": null,
      "outputs": [
        {
          "output_type": "stream",
          "name": "stdout",
          "text": [
            "True\n",
            "False\n"
          ]
        }
      ]
    },
    {
      "cell_type": "markdown",
      "source": [
        "Week_4"
      ],
      "metadata": {
        "id": "iVvLXNP5IXhe"
      }
    },
    {
      "cell_type": "code",
      "source": [
        "#Chocolate Distribution\n",
        "def chocolate_distribution(arr, m):\n",
        "    n = len(arr)\n",
        "    if m == 0 or n == 0:\n",
        "        return 0\n",
        "    arr.sort()\n",
        "\n",
        "    if n < m:\n",
        "        return -1\n",
        "\n",
        "    min_diff = float('inf')\n",
        "\n",
        "    for i in range(n - m + 1):\n",
        "        diff = arr[i + m - 1] - arr[i]\n",
        "        if diff < min_diff:\n",
        "            min_diff = diff\n",
        "\n",
        "    return min_diff\n",
        "\n",
        "packets = [12, 4, 7, 9, 2, 23, 25, 26,28]\n",
        "students = 7\n",
        "print(chocolate_distribution(packets, students))"
      ],
      "metadata": {
        "id": "iznioMuHIkKg",
        "colab": {
          "base_uri": "https://localhost:8080/"
        },
        "outputId": "79b71427-6676-4178-efb5-904985625ede"
      },
      "execution_count": null,
      "outputs": [
        {
          "output_type": "stream",
          "name": "stdout",
          "text": [
            "21\n"
          ]
        }
      ]
    },
    {
      "cell_type": "code",
      "source": [
        "def insert_at_bottom(stack, element):\n",
        "    if not stack:\n",
        "        stack.append(element)\n",
        "        return\n",
        "    top = stack.pop()\n",
        "    insert_at_bottom(stack, element)\n",
        "    stack.append(top)\n",
        "\n",
        "def reverse_stack(stack):\n",
        "    if not stack:\n",
        "        return\n",
        "    top = stack.pop()\n",
        "    reverse_stack(stack)\n",
        "    insert_at_bottom(stack, top)\n",
        "\n",
        "# Example usage:\n",
        "stack = [1, 2, 3, 4, 5]\n",
        "print(\"Original stack:\", stack)\n",
        "reverse_stack(stack)\n",
        "print(\"Reversed stack:\", stack)"
      ],
      "metadata": {
        "colab": {
          "base_uri": "https://localhost:8080/"
        },
        "id": "fFMZcxMm-WNU",
        "outputId": "a153ba65-3ccb-4b58-bd67-ba259aeea455"
      },
      "execution_count": null,
      "outputs": [
        {
          "output_type": "stream",
          "name": "stdout",
          "text": [
            "Original stack: [1, 2, 3, 4, 5]\n",
            "Reversed stack: [5, 4, 3, 2, 1]\n"
          ]
        }
      ]
    },
    {
      "cell_type": "code",
      "source": [
        "def sort_stack(stack):\n",
        "    temp_stack = []\n",
        "\n",
        "    while stack:\n",
        "\n",
        "        curr = stack.pop()\n",
        "\n",
        "        while temp_stack and temp_stack[-1] > curr:\n",
        "            stack.append(temp_stack.pop())\n",
        "\n",
        "        temp_stack.append(curr)\n",
        "\n",
        "    while temp_stack:\n",
        "        stack.append(temp_stack.pop())\n",
        "\n",
        "stack = [34, 3, 31, 98, 92, 23]\n",
        "print(\"Original stack:\", stack)\n",
        "sort_stack(stack)\n",
        "print(\"Sorted stack:\", stack)"
      ],
      "metadata": {
        "colab": {
          "base_uri": "https://localhost:8080/"
        },
        "id": "IUw52RNn_6xD",
        "outputId": "1966e054-3a8d-4126-e16e-f7d651ef46d7"
      },
      "execution_count": null,
      "outputs": [
        {
          "output_type": "stream",
          "name": "stdout",
          "text": [
            "Original stack: [34, 3, 31, 98, 92, 23]\n",
            "Sorted stack: [98, 92, 34, 31, 23, 3]\n"
          ]
        }
      ]
    },
    {
      "cell_type": "code",
      "source": [
        "def generate_stack_permutations(input_seq):\n",
        "    result = []\n",
        "    stack = []\n",
        "    output = []\n",
        "\n",
        "    def backtrack(i):\n",
        "        if i == len(input_seq) and not stack:\n",
        "            result.append(output[:])\n",
        "            return\n",
        "\n",
        "        if i < len(input_seq):\n",
        "            stack.append(input_seq[i])\n",
        "            backtrack(i + 1)\n",
        "            stack.pop()\n",
        "\n",
        "        if stack:\n",
        "            popped = stack.pop()\n",
        "            output.append(popped)\n",
        "            backtrack(i)\n",
        "            output.pop()\n",
        "            stack.append(popped)\n",
        "\n",
        "    backtrack(0)\n",
        "    return result\n",
        "\n",
        "outputs = generate_stack_permutations([1, 2, 3, 4])\n",
        "for seq in outputs:\n",
        "    print(seq)\n",
        "print(f\"Total possible outputs: {len(outputs)}\")"
      ],
      "metadata": {
        "colab": {
          "base_uri": "https://localhost:8080/"
        },
        "id": "YLfVljSJ_717",
        "outputId": "0c77eac7-0534-4070-e873-9c09acb8ef77"
      },
      "execution_count": null,
      "outputs": [
        {
          "output_type": "stream",
          "name": "stdout",
          "text": [
            "[4, 3, 2, 1]\n",
            "[3, 4, 2, 1]\n",
            "[3, 2, 4, 1]\n",
            "[3, 2, 1, 4]\n",
            "[2, 4, 3, 1]\n",
            "[2, 3, 4, 1]\n",
            "[2, 3, 1, 4]\n",
            "[2, 1, 4, 3]\n",
            "[2, 1, 3, 4]\n",
            "[1, 4, 3, 2]\n",
            "[1, 3, 4, 2]\n",
            "[1, 3, 2, 4]\n",
            "[1, 2, 4, 3]\n",
            "[1, 2, 3, 4]\n",
            "Total possible outputs: 14\n"
          ]
        }
      ]
    },
    {
      "cell_type": "code",
      "source": [
        "#946\n",
        "from typing import List\n",
        "\n",
        "class Solution:\n",
        "    def validateStackSequences(self, pushed: List[int], popped: List[int]) -> bool:\n",
        "        stack = []\n",
        "        j = 0\n",
        "\n",
        "        for x in pushed:\n",
        "            stack.append(x)\n",
        "            while stack and stack[-1] == popped[j]:\n",
        "                stack.pop()\n",
        "                j += 1\n",
        "\n",
        "        return not stack\n"
      ],
      "metadata": {
        "id": "oqoZq8AzBj0b"
      },
      "execution_count": null,
      "outputs": []
    },
    {
      "cell_type": "code",
      "source": [
        "#912\n",
        "from typing import List\n",
        "\n",
        "class Solution:\n",
        "    def sortArray(self, nums: List[int]) -> List[int]:\n",
        "        def merge_sort(arr):\n",
        "            if len(arr) <= 1:\n",
        "                return arr\n",
        "\n",
        "            mid = len(arr) // 2\n",
        "            left = merge_sort(arr[:mid])\n",
        "            right = merge_sort(arr[mid:])\n",
        "\n",
        "            return merge(left, right)\n",
        "\n",
        "        def merge(left, right):\n",
        "            i = j = 0\n",
        "            merged = []\n",
        "            while i < len(left) and j < len(right):\n",
        "                if left[i] <= right[j]:\n",
        "                    merged.append(left[i])\n",
        "                    i += 1\n",
        "                else:\n",
        "                    merged.append(right[j])\n",
        "                    j += 1\n",
        "            merged.extend(left[i:])\n",
        "            merged.extend(right[j:])\n",
        "            return merged\n",
        "\n",
        "        return merge_sort(nums)"
      ],
      "metadata": {
        "id": "dK6B-k5aBpy8"
      },
      "execution_count": null,
      "outputs": []
    },
    {
      "cell_type": "markdown",
      "source": [
        "Week_5(22/08/2025)"
      ],
      "metadata": {
        "id": "igSkpN2nAP-h"
      }
    },
    {
      "cell_type": "code",
      "source": [
        "#Given an array where every element repeats twice except for one element find that unique element by using bitwise operation.\n",
        "def singleNumber(nums):\n",
        "    result = 0\n",
        "    for num in nums:\n",
        "        result ^= num\n",
        "    return result\n",
        "\n",
        "arr = [4, 1, 2, 1, 2]\n",
        "print(singleNumber(arr))\n"
      ],
      "metadata": {
        "id": "KUpzC4N3EKSq"
      },
      "execution_count": null,
      "outputs": []
    }
  ]
}