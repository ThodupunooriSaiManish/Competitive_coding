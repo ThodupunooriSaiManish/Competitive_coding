{
  "nbformat": 4,
  "nbformat_minor": 0,
  "metadata": {
    "colab": {
      "provenance": [],
      "authorship_tag": "ABX9TyOYYo3DyHFQlpC2q5ztuvSw",
      "include_colab_link": true
    },
    "kernelspec": {
      "name": "python3",
      "display_name": "Python 3"
    },
    "language_info": {
      "name": "python"
    }
  },
  "cells": [
    {
      "cell_type": "markdown",
      "metadata": {
        "id": "view-in-github",
        "colab_type": "text"
      },
      "source": [
        "<a href=\"https://colab.research.google.com/github/ThodupunooriSaiManish/Competitive_coding/blob/main/Competitive_Coding.ipynb\" target=\"_parent\"><img src=\"https://colab.research.google.com/assets/colab-badge.svg\" alt=\"Open In Colab\"/></a>"
      ]
    },
    {
      "cell_type": "markdown",
      "source": [
        "LeetCode Problems"
      ],
      "metadata": {
        "id": "-V5gVCLR-00e"
      }
    },
    {
      "cell_type": "markdown",
      "source": [
        "Week_1"
      ],
      "metadata": {
        "id": "cDLRDFCdFNoj"
      }
    },
    {
      "cell_type": "code",
      "execution_count": null,
      "metadata": {
        "colab": {
          "base_uri": "https://localhost:8080/"
        },
        "id": "4_9VHUtqyvYI",
        "outputId": "73a2025d-b1bc-4847-c34c-0f6796441534"
      },
      "outputs": [
        {
          "output_type": "stream",
          "name": "stdout",
          "text": [
            "8\n"
          ]
        }
      ],
      "source": [
        "#121\n",
        "# Given an array whose elements represents the price at day i, determine the maximum profit possible, you can only buy and sell only once.\n",
        "from typing import List\n",
        "class Solution:\n",
        "    def maxProfit(self, prices: List[int]) -> int:\n",
        "        min_price = float('inf')\n",
        "        max_profit = 0\n",
        "\n",
        "        for price in prices:\n",
        "            if price < min_price:\n",
        "                min_price = price\n",
        "            elif price - min_price > max_profit:\n",
        "                max_profit = price - min_price\n",
        "\n",
        "        return max_profit\n",
        "\n",
        "L1 = [7,5,4,10,12,1]\n",
        "s1 = Solution()\n",
        "print(s1.maxProfit(L1))"
      ]
    },
    {
      "cell_type": "code",
      "source": [
        "'''\n",
        "class Solution:\n",
        "    def maxSubArray1(self, nums: List[int]) -> int:\n",
        "        max_sum = current = nums[0]\n",
        "        for num in nums[1:]:\n",
        "            current = max(num, current + num)\n",
        "            max_sum = max(max_sum, current)\n",
        "        return max_sum\n",
        "        '''"
      ],
      "metadata": {
        "colab": {
          "base_uri": "https://localhost:8080/",
          "height": 53
        },
        "id": "tUVvVh7IA1m0",
        "outputId": "01324c82-5da1-44e8-9bf6-f8639955ccc8"
      },
      "execution_count": null,
      "outputs": [
        {
          "output_type": "execute_result",
          "data": {
            "text/plain": [
              "'\\nclass Solution:\\n    def maxSubArray1(self, nums: List[int]) -> int:\\n        max_sum = current = nums[0]\\n        for num in nums[1:]:\\n            current = max(num, current + num)\\n            max_sum = max(max_sum, current)\\n        return max_sum\\n        '"
            ],
            "application/vnd.google.colaboratory.intrinsic+json": {
              "type": "string"
            }
          },
          "metadata": {},
          "execution_count": 6
        }
      ]
    },
    {
      "cell_type": "code",
      "source": [
        "#53\n",
        "''' Given an integer arrray find the continuous sub array which has the largest sum and returns its sum, and also print the sub array'''\n",
        "def maxSubArray(nums):\n",
        "    max_sum = current = nums[0]\n",
        "    start = end = temp_start = 0\n",
        "\n",
        "    for i in range(1, len(nums)):\n",
        "        if nums[i] > current + nums[i]:\n",
        "            current = nums[i]\n",
        "            temp_start = i\n",
        "        else:\n",
        "            current += nums[i]\n",
        "\n",
        "        if current > max_sum:\n",
        "            max_sum = current\n",
        "            start = temp_start\n",
        "            end = i\n",
        "\n",
        "    return max_sum, nums[start:end + 1]\n",
        "\n",
        "l=[-2,1,-3,4,-1,2,1,-5,4]\n",
        "print(maxSubArray(l))\n",
        "\n"
      ],
      "metadata": {
        "colab": {
          "base_uri": "https://localhost:8080/"
        },
        "id": "Tv-2DFdr34vT",
        "outputId": "9d24771f-ebaa-4fbc-aebc-1c37c247cc5e"
      },
      "execution_count": null,
      "outputs": [
        {
          "output_type": "stream",
          "name": "stdout",
          "text": [
            "(6, [4, -1, 2, 1])\n"
          ]
        }
      ]
    },
    {
      "cell_type": "code",
      "source": [
        "#26\n",
        "from typing import List\n",
        "\n",
        "class Solution:\n",
        "    def removeDuplicates(self, nums: List[int]) -> int:\n",
        "        if not nums:\n",
        "            return 0\n",
        "\n",
        "        k = 1\n",
        "        for i in range(1, len(nums)):\n",
        "            if nums[i] != nums[k - 1]:\n",
        "                nums[k] = nums[i]\n",
        "                k += 1\n",
        "\n",
        "        return k\n",
        "\n",
        "if __name__ == \"__main__\":\n",
        "    nums = [0, 0, 1, 1, 1, 2, 2, 3, 3, 4]\n",
        "    solution = Solution()\n",
        "    k = solution.removeDuplicates(nums)\n",
        "    print(\"Number of unique elements:\", k)\n",
        "    print(\"Modified array (first k elements):\", nums[:k])"
      ],
      "metadata": {
        "id": "q8ZKTCoqFNZd",
        "outputId": "ce7805b3-93bd-4044-b1ef-fdf467f0575b",
        "colab": {
          "base_uri": "https://localhost:8080/"
        }
      },
      "execution_count": null,
      "outputs": [
        {
          "output_type": "stream",
          "name": "stdout",
          "text": [
            "Number of unique elements: 5\n",
            "Modified array (first k elements): [0, 1, 2, 3, 4]\n"
          ]
        }
      ]
    },
    {
      "cell_type": "markdown",
      "source": [
        "Week_2"
      ],
      "metadata": {
        "id": "mgk5XMp5GIN7"
      }
    },
    {
      "cell_type": "code",
      "source": [
        "#287\n",
        "def multipleTime(nums):\n",
        "  count=0\n",
        "  for i in range(len(nums)):\n",
        "    for j in range(i+1,len(nums)):\n",
        "      if nums[i]==nums[j]:\n",
        "        count+=1\n",
        "        print(nums[i])\n",
        "nums=[1,2,3,8,4,5,6,7,8]\n",
        "multipleTime(nums)"
      ],
      "metadata": {
        "colab": {
          "base_uri": "https://localhost:8080/"
        },
        "id": "RpgPPqug1qCh",
        "outputId": "9fb756c8-ba1b-4544-d9b5-65b754d43e82"
      },
      "execution_count": null,
      "outputs": [
        {
          "output_type": "stream",
          "name": "stdout",
          "text": [
            "8\n"
          ]
        }
      ]
    },
    {
      "cell_type": "code",
      "source": [
        "#287(1)\n",
        "'''You are given an array of +ve integers that has atmost one element multiple times, find that number.'''\n",
        "\n",
        "from typing import List\n",
        "\n",
        "class Solution:\n",
        "    def findDuplicate(self, nums: List[int]) -> int:\n",
        "        seen = set()\n",
        "        for num in nums:\n",
        "            if num in seen:\n",
        "                return num\n",
        "            seen.add(num)\n",
        "        return -1\n",
        "\n",
        "nums = [1, 3, 4, 2, 2]\n",
        "solution = Solution()\n",
        "print(solution.findDuplicate(nums))"
      ],
      "metadata": {
        "colab": {
          "base_uri": "https://localhost:8080/"
        },
        "id": "wanIAazi8Qxp",
        "outputId": "6277ca50-0e0e-4301-ec14-5030e6420a15"
      },
      "execution_count": null,
      "outputs": [
        {
          "output_type": "stream",
          "name": "stdout",
          "text": [
            "2\n"
          ]
        }
      ]
    },
    {
      "cell_type": "code",
      "source": [
        "#704\n",
        "'''Find the number of searches required to find out given pg.no in the text book or return -1'''\n",
        "def binary_search(nums, target):\n",
        "    count = 0\n",
        "    low = 0\n",
        "    high = len(nums) - 1\n",
        "\n",
        "    while low <= high:\n",
        "        mid = (low + high) // 2\n",
        "        count += 1\n",
        "\n",
        "        if nums[mid] == target:\n",
        "            print(f\"Number of comparisons: {count}\")\n",
        "            return mid\n",
        "        elif nums[mid] > target:\n",
        "            high = mid - 1\n",
        "        else:\n",
        "            low = mid + 1\n",
        "\n",
        "    print(f\"Number of comparisons: {count}\")\n",
        "    return -1\n",
        "\n",
        "nums = [1,2,3,4,5,6,7,8,9,10,11]\n",
        "print(binary_search(nums, 11))"
      ],
      "metadata": {
        "colab": {
          "base_uri": "https://localhost:8080/"
        },
        "id": "5g9VYAOf8eoY",
        "outputId": "d9dbb1cf-1526-4d65-b6e7-c597d884a605"
      },
      "execution_count": null,
      "outputs": [
        {
          "output_type": "stream",
          "name": "stdout",
          "text": [
            "Number of comparisons: 4\n",
            "10\n"
          ]
        }
      ]
    },
    {
      "cell_type": "code",
      "source": [
        "#268\n",
        "'''Given an arrat contains 'n' distint no. taken from 0,1,...,n and fing the one no. that is missing from the binary search technique.'''\n",
        "def missingNumber(nums):\n",
        "    nums.sort()\n",
        "    low, high = 0, len(nums) - 1\n",
        "\n",
        "    while low <= high:\n",
        "        mid = (low + high) // 2\n",
        "\n",
        "        if nums[mid] == mid:\n",
        "            low = mid + 1\n",
        "        else:\n",
        "\n",
        "            high = mid - 1\n",
        "\n",
        "    return low\n",
        "\n",
        "\n",
        "nums = [0, 1, 2, 3, 4, 5, 7]\n",
        "print(\"Missing number is:\", missingNumber(nums))"
      ],
      "metadata": {
        "colab": {
          "base_uri": "https://localhost:8080/"
        },
        "id": "ezFOUbJGBpNQ",
        "outputId": "aeead548-b9f0-4662-db8e-1dae4500560d"
      },
      "execution_count": null,
      "outputs": [
        {
          "output_type": "stream",
          "name": "stdout",
          "text": [
            "Missing number is: 6\n"
          ]
        }
      ]
    },
    {
      "cell_type": "code",
      "source": [
        "#136\n",
        "'''Given an array of 'n' integers every number in the array expect one apperas twice. Find the single number in the array.'''\n",
        "from typing import List\n",
        "\n",
        "class Solution:\n",
        "    def singleNonDuplicate(self, nums: List[int]) -> int:\n",
        "        low, high = 0, len(nums) - 1\n",
        "\n",
        "        while low < high:\n",
        "            mid = (low + high) // 2\n",
        "\n",
        "            # Ensure mid is even for comparison\n",
        "            if mid % 2 == 1:\n",
        "                mid -= 1\n",
        "\n",
        "            # If pair is valid, single is after mid\n",
        "            if nums[mid] == nums[mid + 1]:\n",
        "                low = mid + 2\n",
        "            else:\n",
        "                high = mid\n",
        "\n",
        "        return nums[low]\n",
        "nums=[1,1,2,2,3,3,4,5,5,6,6,7]\n",
        "s1=Solution()\n",
        "s1.singleNonDuplicate(nums)"
      ],
      "metadata": {
        "colab": {
          "base_uri": "https://localhost:8080/"
        },
        "id": "BhTZ7DNPDRGg",
        "outputId": "cc4de20c-aa86-4316-f37d-54d6ada5695c"
      },
      "execution_count": null,
      "outputs": [
        {
          "output_type": "execute_result",
          "data": {
            "text/plain": [
              "4"
            ]
          },
          "metadata": {},
          "execution_count": 1
        }
      ]
    },
    {
      "cell_type": "markdown",
      "source": [
        "Week_3"
      ],
      "metadata": {
        "id": "CN_MsAmbHCOs"
      }
    },
    {
      "cell_type": "code",
      "source": [
        "#Sorting strings using extended bubble sort\n",
        "def ex_bubble_sort(strings):\n",
        "    n = len(strings)\n",
        "    for i in range(n):\n",
        "        swapped = False\n",
        "        for j in range(0, n - i - 1):\n",
        "            if strings[j] > strings[j + 1]:\n",
        "                strings[j], strings[j + 1] = strings[j + 1], strings[j]\n",
        "                swapped = True\n",
        "        if not swapped:\n",
        "            break\n",
        "    return strings\n",
        "\n",
        "words = [\"banana\", \"apple\", \"grape\", \"watermelon\", \"mango\"]\n",
        "sorted = ex_bubble_sort(words)\n",
        "print(\"Sorted list of strings:\", sorted)"
      ],
      "metadata": {
        "colab": {
          "base_uri": "https://localhost:8080/"
        },
        "id": "g-hZdqzi1lxx",
        "outputId": "5715e9af-8c41-4c84-f66d-0f9955720041"
      },
      "execution_count": null,
      "outputs": [
        {
          "output_type": "stream",
          "name": "stdout",
          "text": [
            "Sorted list of strings: ['apple', 'banana', 'grape', 'mango', 'watermelon']\n"
          ]
        }
      ]
    },
    {
      "cell_type": "code",
      "source": [
        "#448\n",
        "'''Given an array a[0,...,n-1] of distint elements and range low to high, find all numbers that are in a range but not in the array.\n",
        "The missing elements in the array printed in thr sorted list'''\n",
        "\n",
        "def find_missing_in_range(arr, low, high):\n",
        "    arr_set = set(arr)\n",
        "    missing = []\n",
        "\n",
        "    for num in range(low, high + 1):\n",
        "        if num not in arr_set:\n",
        "            missing.append(num)\n",
        "\n",
        "    return missing\n",
        "\n",
        "arr = [10, 12, 14]\n",
        "low = 10\n",
        "high = 15\n",
        "\n",
        "print(find_missing_in_range(arr, low, high))"
      ],
      "metadata": {
        "colab": {
          "base_uri": "https://localhost:8080/"
        },
        "id": "p59-Sv7wBgaO",
        "outputId": "47bc7153-674b-4c88-9d4f-f5fc44d9f1b5"
      },
      "execution_count": null,
      "outputs": [
        {
          "output_type": "stream",
          "name": "stdout",
          "text": [
            "[11, 13, 15]\n"
          ]
        }
      ]
    },
    {
      "cell_type": "code",
      "source": [
        "#Arrival and Departure of Train, platforms required\n",
        "def find_min_platforms(arrival, departure):\n",
        "    n = len(arrival)\n",
        "    arrival.sort()\n",
        "    departure.sort()\n",
        "\n",
        "    i = j = 0\n",
        "    platforms_needed = max_platforms = 0\n",
        "\n",
        "    while i < n and j < n:\n",
        "        if arrival[i] <= departure[j]:\n",
        "            platforms_needed += 1\n",
        "            i += 1\n",
        "        else:\n",
        "            platforms_needed -= 1\n",
        "            j += 1\n",
        "\n",
        "        max_platforms = max(max_platforms, platforms_needed)\n",
        "\n",
        "    return max_platforms\n",
        "\n",
        "arrival = [900, 940, 950, 1100, 1500, 1800]\n",
        "departure = [910, 1200, 1120, 1130, 1900, 2000]\n",
        "\n",
        "print(find_min_platforms(arrival, departure))\n"
      ],
      "metadata": {
        "colab": {
          "base_uri": "https://localhost:8080/"
        },
        "id": "FNqyNYBSFZGj",
        "outputId": "19b21bb2-e588-40df-e1e7-f5127ef4fa06"
      },
      "execution_count": null,
      "outputs": [
        {
          "output_type": "stream",
          "name": "stdout",
          "text": [
            "3\n"
          ]
        }
      ]
    },
    {
      "cell_type": "code",
      "source": [
        "#242\n",
        "from collections import Counter\n",
        "from typing import List\n",
        "\n",
        "class Solution:\n",
        "    def isAnagram(self, s: str, t: str) -> bool:\n",
        "\n",
        "        return Counter(s) == Counter(t)\n",
        "sol = Solution()\n",
        "print(sol.isAnagram(\"anagram\", \"nagaram\"))\n",
        "print(sol.isAnagram(\"rat\", \"car\"))\n"
      ],
      "metadata": {
        "colab": {
          "base_uri": "https://localhost:8080/"
        },
        "id": "ppPCCfVPGjzs",
        "outputId": "c56e679f-c1bc-4b84-e992-608075d0a89f"
      },
      "execution_count": null,
      "outputs": [
        {
          "output_type": "stream",
          "name": "stdout",
          "text": [
            "True\n",
            "False\n"
          ]
        }
      ]
    },
    {
      "cell_type": "markdown",
      "source": [
        "Week_4"
      ],
      "metadata": {
        "id": "iVvLXNP5IXhe"
      }
    },
    {
      "cell_type": "code",
      "source": [
        "#Chocolate Distribution\n",
        "def chocolate_distribution(arr, m):\n",
        "    n = len(arr)\n",
        "    if m == 0 or n == 0:\n",
        "        return 0\n",
        "    arr.sort()\n",
        "\n",
        "    if n < m:\n",
        "        return -1\n",
        "\n",
        "    min_diff = float('inf')\n",
        "\n",
        "    for i in range(n - m + 1):\n",
        "        diff = arr[i + m - 1] - arr[i]\n",
        "        if diff < min_diff:\n",
        "            min_diff = diff\n",
        "\n",
        "    return min_diff\n",
        "\n",
        "packets = [12, 4, 7, 9, 2, 23, 25, 26,28]\n",
        "students = 7\n",
        "print(chocolate_distribution(packets, students))"
      ],
      "metadata": {
        "id": "iznioMuHIkKg",
        "colab": {
          "base_uri": "https://localhost:8080/"
        },
        "outputId": "79b71427-6676-4178-efb5-904985625ede"
      },
      "execution_count": null,
      "outputs": [
        {
          "output_type": "stream",
          "name": "stdout",
          "text": [
            "21\n"
          ]
        }
      ]
    },
    {
      "cell_type": "code",
      "source": [
        "#Reversing a stack\n",
        "def insert_at_bottom(stack, element):\n",
        "    if not stack:\n",
        "        stack.append(element)\n",
        "        return\n",
        "    top = stack.pop()\n",
        "    insert_at_bottom(stack, element)\n",
        "    stack.append(top)\n",
        "\n",
        "def reverse_stack(stack):\n",
        "    if not stack:\n",
        "        return\n",
        "    top = stack.pop()\n",
        "    reverse_stack(stack)\n",
        "    insert_at_bottom(stack, top)\n",
        "\n",
        "stack = [1, 2, 3, 4, 5]\n",
        "print(\"Original stack:\", stack)\n",
        "reverse_stack(stack)\n",
        "print(\"Reversed stack:\", stack)"
      ],
      "metadata": {
        "colab": {
          "base_uri": "https://localhost:8080/"
        },
        "id": "fFMZcxMm-WNU",
        "outputId": "a153ba65-3ccb-4b58-bd67-ba259aeea455"
      },
      "execution_count": null,
      "outputs": [
        {
          "output_type": "stream",
          "name": "stdout",
          "text": [
            "Original stack: [1, 2, 3, 4, 5]\n",
            "Reversed stack: [5, 4, 3, 2, 1]\n"
          ]
        }
      ]
    },
    {
      "cell_type": "code",
      "source": [
        "#Sorting a stack\n",
        "def sort_stack(stack):\n",
        "    temp_stack = []\n",
        "\n",
        "    while stack:\n",
        "\n",
        "        curr = stack.pop()\n",
        "\n",
        "        while temp_stack and temp_stack[-1] > curr:\n",
        "            stack.append(temp_stack.pop())\n",
        "\n",
        "        temp_stack.append(curr)\n",
        "\n",
        "    while temp_stack:\n",
        "        stack.append(temp_stack.pop())\n",
        "\n",
        "stack = [34, 3, 31, 98, 92, 23]\n",
        "print(\"Original stack:\", stack)\n",
        "sort_stack(stack)\n",
        "print(\"Sorted stack:\", stack)"
      ],
      "metadata": {
        "colab": {
          "base_uri": "https://localhost:8080/"
        },
        "id": "IUw52RNn_6xD",
        "outputId": "1966e054-3a8d-4126-e16e-f7d651ef46d7"
      },
      "execution_count": null,
      "outputs": [
        {
          "output_type": "stream",
          "name": "stdout",
          "text": [
            "Original stack: [34, 3, 31, 98, 92, 23]\n",
            "Sorted stack: [98, 92, 34, 31, 23, 3]\n"
          ]
        }
      ]
    },
    {
      "cell_type": "code",
      "source": [
        "def generate_stack_permutations(input_seq):\n",
        "    result = []\n",
        "    stack = []\n",
        "    output = []\n",
        "\n",
        "    def backtrack(i):\n",
        "        if i == len(input_seq) and not stack:\n",
        "            result.append(output[:])\n",
        "            return\n",
        "\n",
        "        if i < len(input_seq):\n",
        "            stack.append(input_seq[i])\n",
        "            backtrack(i + 1)\n",
        "            stack.pop()\n",
        "\n",
        "        if stack:\n",
        "            popped = stack.pop()\n",
        "            output.append(popped)\n",
        "            backtrack(i)\n",
        "            output.pop()\n",
        "            stack.append(popped)\n",
        "\n",
        "    backtrack(0)\n",
        "    return result\n",
        "\n",
        "outputs = generate_stack_permutations([1, 2, 3, 4])\n",
        "for seq in outputs:\n",
        "    print(seq)\n",
        "print(f\"Total possible outputs: {len(outputs)}\")"
      ],
      "metadata": {
        "colab": {
          "base_uri": "https://localhost:8080/"
        },
        "id": "YLfVljSJ_717",
        "outputId": "0c77eac7-0534-4070-e873-9c09acb8ef77"
      },
      "execution_count": null,
      "outputs": [
        {
          "output_type": "stream",
          "name": "stdout",
          "text": [
            "[4, 3, 2, 1]\n",
            "[3, 4, 2, 1]\n",
            "[3, 2, 4, 1]\n",
            "[3, 2, 1, 4]\n",
            "[2, 4, 3, 1]\n",
            "[2, 3, 4, 1]\n",
            "[2, 3, 1, 4]\n",
            "[2, 1, 4, 3]\n",
            "[2, 1, 3, 4]\n",
            "[1, 4, 3, 2]\n",
            "[1, 3, 4, 2]\n",
            "[1, 3, 2, 4]\n",
            "[1, 2, 4, 3]\n",
            "[1, 2, 3, 4]\n",
            "Total possible outputs: 14\n"
          ]
        }
      ]
    },
    {
      "cell_type": "code",
      "source": [
        "#946\n",
        "from typing import List\n",
        "\n",
        "class Solution:\n",
        "    def validateStackSequences(self, pushed: List[int], popped: List[int]) -> bool:\n",
        "        stack = []\n",
        "        j = 0\n",
        "\n",
        "        for x in pushed:\n",
        "            stack.append(x)\n",
        "            while stack and stack[-1] == popped[j]:\n",
        "                stack.pop()\n",
        "                j += 1\n",
        "\n",
        "        return not stack\n"
      ],
      "metadata": {
        "id": "oqoZq8AzBj0b"
      },
      "execution_count": null,
      "outputs": []
    },
    {
      "cell_type": "code",
      "source": [
        "#912\n",
        "from typing import List\n",
        "\n",
        "class Solution:\n",
        "    def sortArray(self, nums: List[int]) -> List[int]:\n",
        "        def merge_sort(arr):\n",
        "            if len(arr) <= 1:\n",
        "                return arr\n",
        "\n",
        "            mid = len(arr) // 2\n",
        "            left = merge_sort(arr[:mid])\n",
        "            right = merge_sort(arr[mid:])\n",
        "\n",
        "            return merge(left, right)\n",
        "\n",
        "        def merge(left, right):\n",
        "            i = j = 0\n",
        "            merged = []\n",
        "            while i < len(left) and j < len(right):\n",
        "                if left[i] <= right[j]:\n",
        "                    merged.append(left[i])\n",
        "                    i += 1\n",
        "                else:\n",
        "                    merged.append(right[j])\n",
        "                    j += 1\n",
        "            merged.extend(left[i:])\n",
        "            merged.extend(right[j:])\n",
        "            return merged\n",
        "\n",
        "        return merge_sort(nums)"
      ],
      "metadata": {
        "id": "dK6B-k5aBpy8"
      },
      "execution_count": null,
      "outputs": []
    },
    {
      "cell_type": "markdown",
      "source": [
        "Week_5(22/08/2025)"
      ],
      "metadata": {
        "id": "igSkpN2nAP-h"
      }
    },
    {
      "cell_type": "code",
      "source": [
        "#Given an array where every element repeats twice except for one element find that unique element by using bitwise operation.\n",
        "def singleNumber(nums):\n",
        "    result = 0\n",
        "    for num in nums:\n",
        "        result ^= num\n",
        "    return result\n",
        "\n",
        "arr = [ 1, 2, 1, 2, 5]\n",
        "print(singleNumber(arr))\n"
      ],
      "metadata": {
        "id": "KUpzC4N3EKSq",
        "colab": {
          "base_uri": "https://localhost:8080/"
        },
        "outputId": "1cad9e21-e2e4-4b44-c3a7-ad8b47d814f6"
      },
      "execution_count": null,
      "outputs": [
        {
          "output_type": "stream",
          "name": "stdout",
          "text": [
            "5\n"
          ]
        }
      ]
    },
    {
      "cell_type": "code",
      "source": [
        "#Swap two numbers without temporary variable by using bitwise operator\n",
        "def swap(a, b):\n",
        "    print(\"Before swap: a =\", a, \" b =\", b)\n",
        "\n",
        "    a = a ^ b\n",
        "    b = a ^ b\n",
        "    a = a ^ b\n",
        "\n",
        "    print(\"After swap:  a =\", a, \" b =\", b)\n",
        "    return a, b\n",
        "\n",
        "swap(5, 7)"
      ],
      "metadata": {
        "colab": {
          "base_uri": "https://localhost:8080/"
        },
        "id": "lsFSqRjDDm1B",
        "outputId": "d47e4cb6-be9c-421f-a3f2-922b097071fa"
      },
      "execution_count": null,
      "outputs": [
        {
          "output_type": "stream",
          "name": "stdout",
          "text": [
            "Before swap: a = 5  b = 7\n",
            "After swap:  a = 7  b = 5\n"
          ]
        },
        {
          "output_type": "execute_result",
          "data": {
            "text/plain": [
              "(7, 5)"
            ]
          },
          "metadata": {},
          "execution_count": 3
        }
      ]
    },
    {
      "cell_type": "code",
      "source": [
        "#Given an array containing n distinct numbers taken from (0,1,2,3,....,n) find the one number that is missing from the array using bitwise operator.\n",
        "def missingNumber(nums):\n",
        "    n = len(nums)\n",
        "    result = n\n",
        "    for i in range(n):\n",
        "        result ^= i ^ nums[i]\n",
        "    return result\n",
        "\n",
        "#\n",
        "arr = [3, 0, 1]\n",
        "print(missingNumber(arr))\n"
      ],
      "metadata": {
        "colab": {
          "base_uri": "https://localhost:8080/"
        },
        "id": "j734yYbwEMg5",
        "outputId": "6737d328-254b-4dec-c89e-386d42bd3299"
      },
      "execution_count": null,
      "outputs": [
        {
          "output_type": "stream",
          "name": "stdout",
          "text": [
            "2\n"
          ]
        }
      ]
    },
    {
      "cell_type": "code",
      "source": [
        "#Count the no. of ones in the binary representation of an integer using bitwise operator\n",
        "def hammingWeight(n: int) -> int:\n",
        "    count = 0\n",
        "    while n:\n",
        "        n &= (n - 1)\n",
        "        count += 1\n",
        "    return count\n",
        "\n",
        "\n",
        "print(hammingWeight(11))\n"
      ],
      "metadata": {
        "colab": {
          "base_uri": "https://localhost:8080/"
        },
        "id": "un7re2OpFRdp",
        "outputId": "6b13b8c5-7a51-4210-a622-de614bfe24d8"
      },
      "execution_count": null,
      "outputs": [
        {
          "output_type": "stream",
          "name": "stdout",
          "text": [
            "3\n"
          ]
        }
      ]
    },
    {
      "cell_type": "code",
      "source": [
        "#338\n",
        "def countBits(n: int):\n",
        "    dp = [0] * (n + 1)\n",
        "    for i in range(1, n + 1):\n",
        "        dp[i] = dp[i >> 1] + (i & 1)\n",
        "    return dp\n",
        "\n",
        "# Example\n",
        "print(countBits(5))\n"
      ],
      "metadata": {
        "colab": {
          "base_uri": "https://localhost:8080/"
        },
        "id": "JurBzygiHF-w",
        "outputId": "e380b0e1-7cc2-402c-f92e-9fe687cde4e6"
      },
      "execution_count": null,
      "outputs": [
        {
          "output_type": "stream",
          "name": "stdout",
          "text": [
            "[0, 1, 1, 2, 1, 2]\n"
          ]
        }
      ]
    },
    {
      "cell_type": "code",
      "source": [
        "#Multiply two numbers using bitwise operators.\n",
        "def bitwise_multiply(a: int, b: int) -> int:\n",
        "    result = 0\n",
        "    negative = (a < 0) ^ (b < 0)\n",
        "    a, b = abs(a), abs(b)\n",
        "\n",
        "    while b > 0:\n",
        "        if b & 1:\n",
        "            result += a\n",
        "        a <<= 1\n",
        "        b >>= 1\n",
        "\n",
        "    return -result if negative else result\n",
        "\n",
        "print(bitwise_multiply(5, 3))\n",
        "print(bitwise_multiply(-4, 6))\n"
      ],
      "metadata": {
        "colab": {
          "base_uri": "https://localhost:8080/"
        },
        "id": "yqxq8doUGel5",
        "outputId": "476e4115-5621-4460-a768-e55a309bec5a"
      },
      "execution_count": null,
      "outputs": [
        {
          "output_type": "stream",
          "name": "stdout",
          "text": [
            "15\n",
            "-24\n"
          ]
        }
      ]
    },
    {
      "cell_type": "markdown",
      "source": [
        "Week-6(29/08/2025)"
      ],
      "metadata": {
        "id": "fRwVBZT3BS_M"
      }
    },
    {
      "cell_type": "code",
      "source": [
        "#225\n",
        "#Write a program to implement stack using single queue\n",
        "from collections import deque\n",
        "\n",
        "class MyStack:\n",
        "    def __init__(self):\n",
        "        self.q = deque()\n",
        "\n",
        "    def push(self, x: int) -> None:\n",
        "        self.q.append(x)\n",
        "        for _ in range(len(self.q) - 1):\n",
        "            self.q.append(self.q.popleft())\n",
        "\n",
        "    def pop(self) -> int:\n",
        "        return self.q.popleft()\n",
        "\n",
        "    def top(self) -> int:\n",
        "        return self.q[0]\n",
        "\n",
        "    def empty(self) -> bool:\n",
        "        return len(self.q) == 0\n",
        "\n",
        "stack = MyStack()\n",
        "stack.push(1)\n",
        "stack.push(2)\n",
        "print(\"Top element:\", stack.top())\n",
        "print(\"Pop element:\", stack.pop())\n",
        "print(\"Is empty?:\", stack.empty())"
      ],
      "metadata": {
        "id": "3mTPcHU7_Fn6",
        "colab": {
          "base_uri": "https://localhost:8080/"
        },
        "outputId": "8c496dba-651f-41ad-8308-39b4176b6e5b"
      },
      "execution_count": null,
      "outputs": [
        {
          "output_type": "stream",
          "name": "stdout",
          "text": [
            "Top element: 2\n",
            "Pop element: 2\n",
            "Is empty?: False\n"
          ]
        }
      ]
    },
    {
      "cell_type": "code",
      "source": [
        "#235\n",
        "#Write a program to implement queue using two stacks\n",
        "class MyQueue:\n",
        "    def __init__(self):\n",
        "        self.inStack = []\n",
        "        self.outStack = []\n",
        "\n",
        "    def push(self, x: int) -> None:\n",
        "        self.inStack.append(x)\n",
        "\n",
        "    def pop(self) -> int:\n",
        "        self.peek()\n",
        "        return self.outStack.pop()\n",
        "\n",
        "    def peek(self) -> int:\n",
        "        if not self.outStack:\n",
        "            while self.inStack:\n",
        "                self.outStack.append(self.inStack.pop())\n",
        "        return self.outStack[-1]\n",
        "\n",
        "    def empty(self) -> bool:\n",
        "        return not self.inStack and not self.outStack\n",
        "\n",
        "queue = MyQueue()\n",
        "queue.push(1)\n",
        "queue.push(2)\n",
        "print(\"Peek element:\", queue.peek())\n",
        "print(\"Pop element:\", queue.pop())\n",
        "print(\"Is empty?:\", queue.empty())"
      ],
      "metadata": {
        "colab": {
          "base_uri": "https://localhost:8080/"
        },
        "id": "o6rukIXoJvY7",
        "outputId": "53a240d2-a913-4cc6-a740-3b08c7968446"
      },
      "execution_count": null,
      "outputs": [
        {
          "output_type": "stream",
          "name": "stdout",
          "text": [
            "Peek element: 1\n",
            "Pop element: 1\n",
            "Is empty?: False\n"
          ]
        }
      ]
    },
    {
      "cell_type": "code",
      "source": [
        "#Construct a binary tree from in-order,pre-order sequences and post-order\n",
        "class TreeNode:\n",
        "    def __init__(self, val):\n",
        "        self.val = val\n",
        "        self.left = None\n",
        "        self.right = None\n",
        "\n",
        "# Construct from Inorder + Preorder\n",
        "\n",
        "def buildTreePreIn(preorder, inorder):\n",
        "    if not preorder or not inorder:\n",
        "        return None\n",
        "\n",
        "    root_val = preorder[0]\n",
        "    root = TreeNode(root_val)\n",
        "\n",
        "    mid = inorder.index(root_val)\n",
        "\n",
        "    root.left = buildTreePreIn(preorder[1:mid+1], inorder[:mid])\n",
        "    root.right = buildTreePreIn(preorder[mid+1:], inorder[mid+1:])\n",
        "\n",
        "    return root\n",
        "\n",
        "# Construct from Inorder + Postorder\n",
        "\n",
        "def buildTreePostIn(inorder, postorder):\n",
        "    if not inorder or not postorder:\n",
        "        return None\n",
        "\n",
        "    root_val = postorder[-1]\n",
        "    root = TreeNode(root_val)\n",
        "\n",
        "    mid = inorder.index(root_val)\n",
        "\n",
        "    root.left = buildTreePostIn(inorder[:mid], postorder[:mid])\n",
        "    root.right = buildTreePostIn(inorder[mid+1:], postorder[mid:-1])\n",
        "\n",
        "    return root\n",
        "\n",
        "# Construct from Preorder + Postorder\n",
        "\n",
        "def buildTreePrePost(preorder, postorder):\n",
        "    if not preorder or not postorder:\n",
        "        return None\n",
        "    if len(preorder) == 1:\n",
        "        return TreeNode(preorder[0])\n",
        "\n",
        "    root = TreeNode(preorder[0])\n",
        "    left_root_val = preorder[1]\n",
        "\n",
        "    idx = postorder.index(left_root_val)\n",
        "\n",
        "    root.left = buildTreePrePost(preorder[1:idx+2], postorder[:idx+1])\n",
        "    root.right = buildTreePrePost(preorder[idx+2:], postorder[idx+1:-1])\n",
        "\n",
        "    return root\n",
        "\n",
        "# Traversal to verify\n",
        "def inorderTraversal(root):\n",
        "    return inorderTraversal(root.left) + [root.val] + inorderTraversal(root.right) if root else []\n",
        "\n",
        "def preorderTraversal(root):\n",
        "    return [root.val] + preorderTraversal(root.left) + preorderTraversal(root.right) if root else []\n",
        "\n",
        "def postorderTraversal(root):\n",
        "    return postorderTraversal(root.left) + postorderTraversal(root.right) + [root.val] if root else []\n",
        "\n",
        "inorder_seq = ['D','B','E','A','F','C']\n",
        "preorder_seq = ['A','B','D','E','C','F']\n",
        "postorder_seq = ['D','E','B','F','C','A']\n",
        "\n",
        "print(\"Building from Preorder + Inorder...\")\n",
        "root1 = buildTreePreIn(preorder_seq, inorder_seq)\n",
        "print(\"Inorder:\", inorderTraversal(root1))\n",
        "print(\"Preorder:\", preorderTraversal(root1))\n",
        "print(\"Postorder:\", postorderTraversal(root1))\n",
        "\n",
        "print(\"\\nBuilding from Postorder + Inorder...\")\n",
        "root2 = buildTreePostIn(inorder_seq, postorder_seq)\n",
        "print(\"Inorder:\", inorderTraversal(root2))\n",
        "print(\"Preorder:\", preorderTraversal(root2))\n",
        "print(\"Postorder:\", postorderTraversal(root2))"
      ],
      "metadata": {
        "colab": {
          "base_uri": "https://localhost:8080/"
        },
        "id": "d4bQbVdnNz1y",
        "outputId": "54c33a50-b501-4044-87f9-797ed5c0b4e1"
      },
      "execution_count": null,
      "outputs": [
        {
          "output_type": "stream",
          "name": "stdout",
          "text": [
            "Building from Preorder + Inorder...\n",
            "Inorder: ['D', 'B', 'E', 'A', 'F', 'C']\n",
            "Preorder: ['A', 'B', 'D', 'E', 'C', 'F']\n",
            "Postorder: ['D', 'E', 'B', 'F', 'C', 'A']\n",
            "\n",
            "Building from Postorder + Inorder...\n",
            "Inorder: ['D', 'B', 'E', 'A', 'F', 'C']\n",
            "Preorder: ['A', 'B', 'D', 'E', 'C', 'F']\n",
            "Postorder: ['D', 'E', 'B', 'F', 'C', 'A']\n"
          ]
        }
      ]
    },
    {
      "cell_type": "code",
      "source": [
        "#Find out min. no. of swapping required to convert binary tree to binary search tree\n",
        "class Node:\n",
        "    def __init__(self, val):\n",
        "        self.val = val\n",
        "        self.left = None\n",
        "        self.right = None\n",
        "\n",
        "def inorder(root, arr):\n",
        "    if root:\n",
        "        inorder(root.left, arr)\n",
        "        arr.append(root.val)\n",
        "        inorder(root.right, arr)\n",
        "\n",
        "def minSwapsToSort(arr):\n",
        "    n = len(arr)\n",
        "    arrpos = list(enumerate(arr))\n",
        "    arrpos.sort(key=lambda it: it[1])\n",
        "\n",
        "    visited = [False] * n\n",
        "    ans = 0\n",
        "\n",
        "    for i in range(n):\n",
        "        if visited[i] or arrpos[i][0] == i:\n",
        "            continue\n",
        "\n",
        "        cycle_size = 0\n",
        "        j = i\n",
        "        while not visited[j]:\n",
        "            visited[j] = True\n",
        "            j = arrpos[j][0]\n",
        "            cycle_size += 1\n",
        "\n",
        "        if cycle_size > 0:\n",
        "            ans += (cycle_size - 1)\n",
        "\n",
        "    return ans\n",
        "\n",
        "def minSwapsToConvertBTtoBST(root):\n",
        "    arr = []\n",
        "    inorder(root, arr)\n",
        "    return minSwapsToSort(arr)\n",
        "\n",
        "if __name__ == \"__main__\":\n",
        "    root = Node(5)\n",
        "    root.left = Node(6)\n",
        "    root.right = Node(7)\n",
        "    root.left.left = Node(8)\n",
        "    root.left.right = Node(9)\n",
        "    root.right.left = Node(10)\n",
        "    root.right.right = Node(11)\n",
        "\n",
        "    print(\"Minimum swaps required:\", minSwapsToConvertBTtoBST(root))"
      ],
      "metadata": {
        "colab": {
          "base_uri": "https://localhost:8080/"
        },
        "id": "4eNbDOooP4Zr",
        "outputId": "9c614de2-76c6-412c-f002-f8528a702a9b"
      },
      "execution_count": null,
      "outputs": [
        {
          "output_type": "stream",
          "name": "stdout",
          "text": [
            "Minimum swaps required: 3\n"
          ]
        }
      ]
    },
    {
      "cell_type": "code",
      "source": [
        "#Find out two trees are identical or not\n",
        "class TreeNode:\n",
        "    def __init__(self, val=0, left=None, right=None):\n",
        "        self.val = val\n",
        "        self.left = left\n",
        "        self.right = right\n",
        "\n",
        "class Solution:\n",
        "    def isSameTree(self, p: TreeNode, q: TreeNode) -> bool:\n",
        "\n",
        "        if not p and not q:\n",
        "            return True\n",
        "\n",
        "        if not p or not q:\n",
        "            return False\n",
        "\n",
        "        if p.val != q.val:\n",
        "            return False\n",
        "\n",
        "        return self.isSameTree(p.left, q.left) and self.isSameTree(p.right, q.right)\n",
        "\n",
        "p = TreeNode(1)\n",
        "p.left = TreeNode(2)\n",
        "p.right = TreeNode(3)\n",
        "\n",
        "q = TreeNode(1)\n",
        "q.left = TreeNode(2)\n",
        "q.right = TreeNode(3)\n",
        "\n",
        "sol = Solution()\n",
        "print(\"Are trees identical?:\", sol.isSameTree(p, q))\n"
      ],
      "metadata": {
        "colab": {
          "base_uri": "https://localhost:8080/"
        },
        "id": "Md8ngYakTHFS",
        "outputId": "6faeb233-b16f-40e0-d42f-ce2ffd529995"
      },
      "execution_count": null,
      "outputs": [
        {
          "output_type": "stream",
          "name": "stdout",
          "text": [
            "Are trees identical?: True\n"
          ]
        }
      ]
    },
    {
      "cell_type": "markdown",
      "source": [
        "week-7 (12/09/2025)"
      ],
      "metadata": {
        "id": "uoV2yL2BFJCr"
      }
    },
    {
      "cell_type": "code",
      "source": [
        "#check cycles in the directed and undirected graph using dfs and bfs\n",
        "from collections import defaultdict\n",
        "\n",
        "class Graph:\n",
        "    def __init__(self, V):\n",
        "        self.V = V\n",
        "        self.graph = defaultdict(list)\n",
        "\n",
        "    def add_edge(self, u, v):\n",
        "        self.graph[u].append(v)\n",
        "        self.graph[v].append(u)\n",
        "\n",
        "    def is_cyclic_dfs(self):\n",
        "        visited = [False] * self.V\n",
        "\n",
        "        def dfs(v, parent):\n",
        "            visited[v] = True\n",
        "            for neigh in self.graph[v]:\n",
        "                if not visited[neigh]:\n",
        "                    if dfs(neigh, v):\n",
        "                        return True\n",
        "                elif neigh != parent:\n",
        "                    return True\n",
        "            return False\n",
        "\n",
        "        for i in range(self.V):\n",
        "            if not visited[i]:\n",
        "                if dfs(i, -1):\n",
        "                    return True\n",
        "        return False\n",
        "\n",
        "g = Graph(5)\n",
        "g.add_edge(0, 1)\n",
        "g.add_edge(1, 2)\n",
        "g.add_edge(2, 0)\n",
        "print(\"Cycle Detected (DFS Undirected):\", g.is_cyclic_dfs())\n",
        "\n",
        "from collections import deque, defaultdict\n",
        "\n",
        "class GraphBFS:\n",
        "    def __init__(self, V):\n",
        "        self.V = V\n",
        "        self.graph = defaultdict(list)\n",
        "\n",
        "    def add_edge(self, u, v):\n",
        "        self.graph[u].append(v)\n",
        "        self.graph[v].append(u)\n",
        "\n",
        "    def is_cyclic_bfs(self):\n",
        "        visited = [False] * self.V\n",
        "\n",
        "        for start in range(self.V):\n",
        "            if not visited[start]:\n",
        "                queue = deque([(start, -1)])\n",
        "                visited[start] = True\n",
        "\n",
        "                while queue:\n",
        "                    node, parent = queue.popleft()\n",
        "                    for neigh in self.graph[node]:\n",
        "                        if not visited[neigh]:\n",
        "                            visited[neigh] = True\n",
        "                            queue.append((neigh, node))\n",
        "                        elif neigh != parent:\n",
        "                            return True\n",
        "        return False\n",
        "\n",
        "g2 = GraphBFS(5)\n",
        "g2.add_edge(0, 1)\n",
        "g2.add_edge(1, 2)\n",
        "g2.add_edge(2, 3)\n",
        "print(\"Cycle Detected (BFS Undirected):\", g2.is_cyclic_bfs())"
      ],
      "metadata": {
        "id": "n8Wd-fOKTrei",
        "colab": {
          "base_uri": "https://localhost:8080/"
        },
        "outputId": "ea7f69d6-5804-4485-c105-2a6103f67d07"
      },
      "execution_count": null,
      "outputs": [
        {
          "output_type": "stream",
          "name": "stdout",
          "text": [
            "Cycle Detected (DFS Undirected): True\n",
            "Cycle Detected (BFS Undirected): False\n"
          ]
        }
      ]
    },
    {
      "cell_type": "code",
      "source": [
        "# 994\n",
        "# Given a matrix of dimensions m,n where each cell in the matrix can have 0,1,2 which has the following meanings such as 0: empty cell\n",
        "# 1: fresh orange 2: rotten orange. The task is to find the min. no. of days required to rotten all oranges. A rotten can rot other fresh oranges\n",
        "# which are neighbours to it. if it is impossible to rotten return -1\n",
        "\n",
        "from collections import deque\n",
        "\n",
        "def orangesRotting(grid):\n",
        "    if not grid:\n",
        "        return -1\n",
        "\n",
        "    rows, cols = len(grid), len(grid[0])\n",
        "    queue = deque()\n",
        "    fresh = 0\n",
        "\n",
        "    for r in range(rows):\n",
        "        for c in range(cols):\n",
        "            if grid[r][c] == 2:\n",
        "                queue.append((r, c, 0))\n",
        "            elif grid[r][c] == 1:\n",
        "                fresh += 1\n",
        "\n",
        "    directions = [(1,0), (-1,0), (0,1), (0,-1)]\n",
        "    days = 0\n",
        "\n",
        "    while queue:\n",
        "        r, c, time = queue.popleft()\n",
        "        days = max(days, time)\n",
        "\n",
        "        for dr, dc in directions:\n",
        "            nr, nc = r + dr, c + dc\n",
        "            if 0 <= nr < rows and 0 <= nc < cols and grid[nr][nc] == 1:\n",
        "                grid[nr][nc] = 2\n",
        "                fresh -= 1\n",
        "                queue.append((nr, nc, time + 1))\n",
        "\n",
        "    return days if fresh == 0 else -1\n",
        "\n",
        "grid = [[2,1,1],\n",
        "        [1,1,0],\n",
        "        [0,1,1]]\n",
        "\n",
        "print(\"Minimum days required:\", orangesRotting(grid))"
      ],
      "metadata": {
        "colab": {
          "base_uri": "https://localhost:8080/"
        },
        "id": "xqX2mTdyJvjj",
        "outputId": "e606e851-094f-4f13-b565-37b57b4efbb5"
      },
      "execution_count": null,
      "outputs": [
        {
          "output_type": "stream",
          "name": "stdout",
          "text": [
            "Minimum days required: 4\n"
          ]
        }
      ]
    },
    {
      "cell_type": "markdown",
      "source": [
        "Week-8"
      ],
      "metadata": {
        "id": "igQ2aCqILOOO"
      }
    },
    {
      "cell_type": "code",
      "source": [
        "#1)Tile filling in boar problem, Solve this proble by using divide and conquer method,Given an N*M bore where in n is of the form 2^k where k>=1,\n",
        "# The board has missing cell of size 1*1 fill the board using L shaped tiles\n",
        "def print_board(board):\n",
        "    for row in board:\n",
        "        print(\"\\t\".join(str(x) for x in row))\n",
        "    print()\n",
        "\n",
        "tile_id = 1  # global tile number counter\n",
        "\n",
        "def fill_board(board, top, left, missing_r, missing_c, size):\n",
        "    global tile_id\n",
        "\n",
        "    # Base case: 2x2 board\n",
        "    if size == 2:\n",
        "        for i in range(2):\n",
        "            for j in range(2):\n",
        "                if not (top + i == missing_r and left + j == missing_c):\n",
        "                    board[top + i][left + j] = tile_id\n",
        "        tile_id += 1\n",
        "        return\n",
        "\n",
        "    half = size // 2\n",
        "\n",
        "    # Center coordinates\n",
        "    center_r = top + half\n",
        "    center_c = left + half\n",
        "\n",
        "    # Determine which quadrant has the missing cell\n",
        "    # and place one L-shaped tile at the center\n",
        "    tile_id += 1\n",
        "    curr_id = tile_id\n",
        "\n",
        "    # Top-left quadrant\n",
        "    if missing_r < center_r and missing_c < center_c:\n",
        "        fill_board(board, top, left, missing_r, missing_c, half)\n",
        "    else:\n",
        "        board[center_r - 1][center_c - 1] = curr_id\n",
        "        fill_board(board, top, left, center_r - 1, center_c - 1, half)\n",
        "\n",
        "    # Top-right quadrant\n",
        "    if missing_r < center_r and missing_c >= center_c:\n",
        "        fill_board(board, top, center_c, missing_r, missing_c, half)\n",
        "    else:\n",
        "        board[center_r - 1][center_c] = curr_id\n",
        "        fill_board(board, top, center_c, center_r - 1, center_c, half)\n",
        "\n",
        "    # Bottom-left quadrant\n",
        "    if missing_r >= center_r and missing_c < center_c:\n",
        "        fill_board(board, center_r, left, missing_r, missing_c, half)\n",
        "    else:\n",
        "        board[center_r][center_c - 1] = curr_id\n",
        "        fill_board(board, center_r, left, center_r, center_c - 1, half)\n",
        "\n",
        "    # Bottom-right quadrant\n",
        "    if missing_r >= center_r and missing_c >= center_c:\n",
        "        fill_board(board, center_r, center_c, missing_r, missing_c, half)\n",
        "    else:\n",
        "        board[center_r][center_c] = curr_id\n",
        "        fill_board(board, center_r, center_c, center_r, center_c, half)\n",
        "\n",
        "\n",
        "# ---- Main Driver ----\n",
        "n = 4  # Must be 2^k\n",
        "board = [[0 for _ in range(n)] for _ in range(n)]\n",
        "\n",
        "# Missing cell coordinates (0-indexed)\n",
        "missing_row, missing_col = 1, 1\n",
        "board[missing_row][missing_col] = -1\n",
        "\n",
        "fill_board(board, 0, 0, missing_row, missing_col, n)\n",
        "print_board(board)\n"
      ],
      "metadata": {
        "id": "8AE-KgRFL0dr",
        "colab": {
          "base_uri": "https://localhost:8080/"
        },
        "outputId": "061690cc-f458-449d-bc60-03905ab26aaa"
      },
      "execution_count": null,
      "outputs": [
        {
          "output_type": "stream",
          "name": "stdout",
          "text": [
            "2\t2\t3\t3\n",
            "2\t-1\t2\t3\n",
            "4\t2\t2\t5\n",
            "4\t4\t5\t5\n",
            "\n"
          ]
        }
      ]
    },
    {
      "cell_type": "code",
      "source": [
        "#Climbing stair case\n",
        "def climbStairs(n):\n",
        "    # Base cases\n",
        "    if n == 1:\n",
        "        return 1\n",
        "    if n == 2:\n",
        "        return 2\n",
        "\n",
        "    # dp[i] = number of ways to reach step i\n",
        "    dp = [0] * (n + 1)\n",
        "    dp[1] = 1\n",
        "    dp[2] = 2\n",
        "\n",
        "    for i in range(3, n + 1):\n",
        "        dp[i] = dp[i - 1] + dp[i - 2]\n",
        "\n",
        "    return dp[n]\n",
        "\n",
        "# Example:\n",
        "n = 5\n",
        "print(\"Number of ways to climb\", n, \"steps:\", climbStairs(n))"
      ],
      "metadata": {
        "colab": {
          "base_uri": "https://localhost:8080/"
        },
        "id": "zmsLuoTSOins",
        "outputId": "245b0f0f-981d-4a4f-b7c2-061581ddae89"
      },
      "execution_count": null,
      "outputs": [
        {
          "output_type": "stream",
          "name": "stdout",
          "text": [
            "Number of ways to climb 5 steps: 8\n"
          ]
        }
      ]
    },
    {
      "cell_type": "code",
      "source": [
        "# 3)House robber problem (Use dynamic programming approach)\n",
        "class Solution:\n",
        "    def rob(self, nums: list[int]) -> int:\n",
        "        n = len(nums)\n",
        "        if n == 0:\n",
        "            return 0\n",
        "        if n == 1:\n",
        "            return nums[0]\n",
        "\n",
        "        # dp[i] represents the max money that can be robbed till house i\n",
        "        dp = [0] * n\n",
        "        dp[0] = nums[0]\n",
        "        dp[1] = max(nums[0], nums[1])\n",
        "\n",
        "        for i in range(2, n):\n",
        "            dp[i] = max(dp[i - 1], dp[i - 2] + nums[i])\n",
        "\n",
        "        return dp[-1]\n",
        "nums = [2, 7, 9, 3, 1]\n",
        "sol = Solution()\n",
        "print(sol.rob(nums))"
      ],
      "metadata": {
        "colab": {
          "base_uri": "https://localhost:8080/"
        },
        "id": "azyEMvt_QsEY",
        "outputId": "1909c51b-8574-452d-fc68-a873471e77c3"
      },
      "execution_count": null,
      "outputs": [
        {
          "output_type": "stream",
          "name": "stdout",
          "text": [
            "12\n"
          ]
        }
      ]
    },
    {
      "cell_type": "code",
      "source": [
        "# 4)Coin change problem (Use dynamic programming approach) (Take 1,2,and 5 rupees coins)\n",
        "class Solution:\n",
        "    def coinChange(self, coins: list[int], amount: int) -> int:\n",
        "        # Initialize dp array\n",
        "        dp = [float('inf')] * (amount + 1)\n",
        "        dp[0] = 0  # 0 coins needed for amount 0\n",
        "\n",
        "        for i in range(1, amount + 1):\n",
        "            for coin in coins:\n",
        "                if i - coin >= 0:\n",
        "                    dp[i] = min(dp[i], dp[i - coin] + 1)\n",
        "\n",
        "        return dp[amount] if dp[amount] != float('inf') else -1\n",
        "coins = [1, 2, 5]\n",
        "amount = 11\n",
        "sol = Solution()\n",
        "print(sol.coinChange(coins, amount))"
      ],
      "metadata": {
        "colab": {
          "base_uri": "https://localhost:8080/"
        },
        "id": "5pjIpJqAStZ2",
        "outputId": "6a593f47-5162-4176-d0fa-3569a166e306"
      },
      "execution_count": null,
      "outputs": [
        {
          "output_type": "stream",
          "name": "stdout",
          "text": [
            "3\n"
          ]
        }
      ]
    },
    {
      "cell_type": "code",
      "source": [
        "# 5)Gas station problem (By using greedy method it is a local minimum)\n",
        "class Solution:\n",
        "    def canCompleteCircuit(self, gas: list[int], cost: list[int]) -> int:\n",
        "        if sum(gas) < sum(cost):\n",
        "            return -1\n",
        "\n",
        "        start = 0\n",
        "        curr_tank = 0\n",
        "\n",
        "        for i in range(len(gas)):\n",
        "            curr_tank += gas[i] - cost[i]\n",
        "            if curr_tank < 0:\n",
        "                # Cannot reach station i+1, reset start\n",
        "                start = i + 1\n",
        "                curr_tank = 0\n",
        "\n",
        "        return start\n",
        "gas = [1,2,3,4,5]\n",
        "cost = [3,4,5,1,2]\n",
        "sol = Solution()\n",
        "print(sol.canCompleteCircuit(gas, cost))"
      ],
      "metadata": {
        "colab": {
          "base_uri": "https://localhost:8080/"
        },
        "id": "rYjsse2eUMEW",
        "outputId": "7a7f59bc-09f2-4240-8433-e5a5fc666057"
      },
      "execution_count": null,
      "outputs": [
        {
          "output_type": "stream",
          "name": "stdout",
          "text": [
            "3\n"
          ]
        }
      ]
    }
  ]
}